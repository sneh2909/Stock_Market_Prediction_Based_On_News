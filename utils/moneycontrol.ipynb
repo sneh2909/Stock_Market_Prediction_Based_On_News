{
 "cells": [
  {
   "cell_type": "code",
   "execution_count": null,
   "metadata": {},
   "outputs": [],
   "source": [
    "import requests\n",
    "from bs4 import BeautifulSoup\n",
    "\n",
    "url_player = \"https://www.moneycontrol.com/company-article/tataconsultancyservices/news/TCS#TCS\"\n",
    "players = requests.get(url_player)\n",
    "player = BeautifulSoup(players.text, \"lxml\")\n",
    "\n",
    "player_list = []\n",
    "for h3 in player.findAll(\"div\",{'class' : 'FL','style':'width:550px'}):\n",
    "    player_list.append(h3.get_text())"
   ]
  },
  {
   "cell_type": "code",
   "execution_count": null,
   "metadata": {},
   "outputs": [],
   "source": [
    "player_list"
   ]
  }
 ],
 "metadata": {
  "language_info": {
   "name": "python"
  },
  "orig_nbformat": 4
 },
 "nbformat": 4,
 "nbformat_minor": 2
}
